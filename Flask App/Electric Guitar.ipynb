{
 "cells": [
  {
   "cell_type": "code",
   "execution_count": 1,
   "metadata": {},
   "outputs": [],
   "source": [
    "from music21 import *\n",
    "import csv\n",
    "import numpy as np"
   ]
  },
  {
   "cell_type": "code",
   "execution_count": 2,
   "metadata": {},
   "outputs": [],
   "source": [
    "def read_midi(file):\n",
    "    \n",
    "    notes=[]\n",
    "    notes_to_parse = None\n",
    "    \n",
    "    #parsing a midi file\n",
    "    midi = converter.parse(file)\n",
    "  \n",
    "    #grouping based on different instruments\n",
    "    s2 = instrument.partitionByInstrument(midi)\n",
    "\n",
    "    #Looping over all the instruments\n",
    "    for part in s2.parts:\n",
    "    \n",
    "        #select elements of only piano\n",
    "        if 'Electric Guitar' in str(part): \n",
    "            notes_to_parse = part.recurse() \n",
    "      \n",
    "            #finding whether a particular element is note or a chord\n",
    "            for element in notes_to_parse:\n",
    "                \n",
    "                #note\n",
    "                if isinstance(element, note.Note):\n",
    "                    notes.append(str(element.pitch))\n",
    "                \n",
    "                #chord\n",
    "                elif isinstance(element, chord.Chord):\n",
    "                    notes.append('.'.join(str(n) for n in element.normalOrder))\n",
    "\n",
    "    return np.array(notes)\n",
    "\n",
    "import os\n",
    "import os.path\n",
    "if (os.path.isfile(\"Electric Guitar.csv\") == False):\n",
    "    path='/Users/kokilareddy/Downloads/midis/Guitar_midkar.com_MIDIRip/jazz/'\n",
    "\n",
    "    #read all the filenames\n",
    "    files=[i for i in os.listdir(path) if i.endswith(\".mid\")]\n",
    "\n",
    "    #reading each midi file\n",
    "    notes_array = np.array([read_midi(path+i) for i in files])\n",
    "    \n",
    "    import csv\n",
    "    with open(\"Electric Guitar.csv\", \"w\") as f:\n",
    "        writer = csv.writer(f)\n",
    "        writer.writerows(notes_array)\n",
    "else:\n",
    "    data_2d = []\n",
    "    with open('Electric Guitar.csv', newline='\\n') as f:\n",
    "        reader = csv.reader(f, delimiter=';')\n",
    "        for row in reader:\n",
    "            data_2d.append([x for x in row])\n",
    "    i=0;\n",
    "    for music in data_2d:\n",
    "        if (music):\n",
    "            data_2d[i] = music[0].split(\",\")\n",
    "        i+=1\n",
    "    notes_array = data_2d"
   ]
  },
  {
   "cell_type": "code",
   "execution_count": 3,
   "metadata": {},
   "outputs": [
    {
     "name": "stdout",
     "output_type": "stream",
     "text": [
      "500\n"
     ]
    }
   ],
   "source": [
    "#converting 2D array into 1D array\n",
    "notes_ = [element for note_ in notes_array for element in note_]\n",
    "\n",
    "#No. of unique notes\n",
    "unique_notes = list(set(notes_))\n",
    "print(len(unique_notes))"
   ]
  },
  {
   "cell_type": "code",
   "execution_count": 4,
   "metadata": {},
   "outputs": [],
   "source": [
    "#importing library\n",
    "from collections import Counter\n",
    "\n",
    "#computing frequency of each note\n",
    "freq = dict(Counter(notes_))\n",
    "\n",
    "#library for visualiation\n",
    "import matplotlib.pyplot as plt\n",
    "\n",
    "#consider only the frequencies\n",
    "no=[count for _,count in freq.items()]"
   ]
  },
  {
   "cell_type": "code",
   "execution_count": 5,
   "metadata": {},
   "outputs": [
    {
     "name": "stdout",
     "output_type": "stream",
     "text": [
      "179\n"
     ]
    }
   ],
   "source": [
    "frequent_notes = [note_ for note_, count in freq.items() if count>=50]\n",
    "print(len(frequent_notes))"
   ]
  },
  {
   "cell_type": "code",
   "execution_count": 6,
   "metadata": {},
   "outputs": [],
   "source": [
    "new_music=[]\n",
    "\n",
    "for notes in notes_array:\n",
    "    temp=[]\n",
    "    for note_ in notes:\n",
    "        if note_ in frequent_notes:\n",
    "            temp.append(note_)            \n",
    "    new_music.append(temp)\n",
    "    \n",
    "new_music = np.array(new_music)"
   ]
  },
  {
   "cell_type": "code",
   "execution_count": 7,
   "metadata": {},
   "outputs": [],
   "source": [
    "no_of_timesteps = 32\n",
    "x = []\n",
    "y = []\n",
    "\n",
    "for note_ in new_music:\n",
    "    for i in range(0, len(note_) - no_of_timesteps, 1):\n",
    "        \n",
    "        #preparing input and output sequences\n",
    "        input_ = note_[i:i + no_of_timesteps]\n",
    "        output = note_[i + no_of_timesteps]\n",
    "        \n",
    "        x.append(input_)\n",
    "        y.append(output)\n",
    "        \n",
    "x=np.array(x)\n",
    "y=np.array(y)"
   ]
  },
  {
   "cell_type": "code",
   "execution_count": 8,
   "metadata": {},
   "outputs": [],
   "source": [
    "unique_x = list(set(x.ravel()))\n",
    "x_note_to_int = dict((note_, number) for number, note_ in enumerate(unique_x))\n",
    "#preparing input sequences\n",
    "x_seq=[]\n",
    "for i in x:\n",
    "    temp=[]\n",
    "    for j in i:\n",
    "        #assigning unique integer to every note\n",
    "        temp.append(x_note_to_int[j])\n",
    "    x_seq.append(temp)\n",
    "    \n",
    "x_seq = np.array(x_seq)"
   ]
  },
  {
   "cell_type": "code",
   "execution_count": 9,
   "metadata": {},
   "outputs": [],
   "source": [
    "unique_y = list(set(y))\n",
    "y_note_to_int = dict((note_, number) for number, note_ in enumerate(unique_y)) \n",
    "y_seq=np.array([y_note_to_int[i] for i in y])"
   ]
  },
  {
   "cell_type": "code",
   "execution_count": 10,
   "metadata": {},
   "outputs": [],
   "source": [
    "from sklearn.model_selection import train_test_split\n",
    "x_tr, x_val, y_tr, y_val = train_test_split(x_seq,y_seq,test_size=0.2,random_state=0)\n",
    "x_tr = np.reshape(x_tr, (x_tr.shape[0], no_of_timesteps, 1))\n",
    "x_val = np.reshape(x_val, (x_val.shape[0], no_of_timesteps, 1))"
   ]
  },
  {
   "cell_type": "code",
   "execution_count": 11,
   "metadata": {},
   "outputs": [],
   "source": [
    "def lstm():\n",
    "    model = Sequential()\n",
    "    model.add(LSTM(128,return_sequences=True, input_shape = (x_tr.shape[1], 1)))\n",
    "    model.add(LSTM(128))\n",
    "    model.add(Dense(256))\n",
    "    model.add(Activation('relu'))\n",
    "    model.add(Dense(len(unique_y)))\n",
    "    model.add(Activation('softmax'))\n",
    "    model.compile(loss='sparse_categorical_crossentropy', optimizer='adam')\n",
    "    return model"
   ]
  },
  {
   "cell_type": "code",
   "execution_count": 12,
   "metadata": {
    "scrolled": true
   },
   "outputs": [
    {
     "name": "stdout",
     "output_type": "stream",
     "text": [
      "Epoch 1/30\n",
      "531/531 [==============================] - ETA: 0s - loss: 4.1095\n",
      "Epoch 00001: val_loss improved from inf to 3.79446, saving model to Electric Guitar.h5\n",
      "531/531 [==============================] - 379s 714ms/step - loss: 4.1095 - val_loss: 3.7945\n",
      "Epoch 2/30\n",
      "531/531 [==============================] - ETA: 0s - loss: 3.5934\n",
      "Epoch 00002: val_loss improved from 3.79446 to 3.45340, saving model to Electric Guitar.h5\n",
      "531/531 [==============================] - 460s 867ms/step - loss: 3.5934 - val_loss: 3.4534\n",
      "Epoch 3/30\n",
      "531/531 [==============================] - ETA: 0s - loss: 3.2982\n",
      "Epoch 00003: val_loss improved from 3.45340 to 3.23754, saving model to Electric Guitar.h5\n",
      "531/531 [==============================] - 512s 964ms/step - loss: 3.2982 - val_loss: 3.2375\n",
      "Epoch 4/30\n",
      "531/531 [==============================] - ETA: 0s - loss: 3.1034\n",
      "Epoch 00004: val_loss improved from 3.23754 to 3.08596, saving model to Electric Guitar.h5\n",
      "531/531 [==============================] - 504s 949ms/step - loss: 3.1034 - val_loss: 3.0860\n",
      "Epoch 5/30\n",
      "531/531 [==============================] - ETA: 0s - loss: 2.9502\n",
      "Epoch 00005: val_loss improved from 3.08596 to 3.00366, saving model to Electric Guitar.h5\n",
      "531/531 [==============================] - 493s 929ms/step - loss: 2.9502 - val_loss: 3.0037\n",
      "Epoch 6/30\n",
      "531/531 [==============================] - ETA: 0s - loss: 2.8181\n",
      "Epoch 00006: val_loss improved from 3.00366 to 2.90294, saving model to Electric Guitar.h5\n",
      "531/531 [==============================] - 469s 884ms/step - loss: 2.8181 - val_loss: 2.9029\n",
      "Epoch 7/30\n",
      "531/531 [==============================] - ETA: 0s - loss: 2.6983\n",
      "Epoch 00007: val_loss improved from 2.90294 to 2.82837, saving model to Electric Guitar.h5\n",
      "531/531 [==============================] - 489s 921ms/step - loss: 2.6983 - val_loss: 2.8284\n",
      "Epoch 8/30\n",
      "531/531 [==============================] - ETA: 0s - loss: 2.5985\n",
      "Epoch 00008: val_loss improved from 2.82837 to 2.75923, saving model to Electric Guitar.h5\n",
      "531/531 [==============================] - 497s 936ms/step - loss: 2.5985 - val_loss: 2.7592\n",
      "Epoch 9/30\n",
      "531/531 [==============================] - ETA: 0s - loss: 2.5062\n",
      "Epoch 00009: val_loss improved from 2.75923 to 2.71629, saving model to Electric Guitar.h5\n",
      "531/531 [==============================] - 449s 845ms/step - loss: 2.5062 - val_loss: 2.7163\n",
      "Epoch 10/30\n",
      "531/531 [==============================] - ETA: 0s - loss: 2.4280\n",
      "Epoch 00010: val_loss improved from 2.71629 to 2.67963, saving model to Electric Guitar.h5\n",
      "531/531 [==============================] - 505s 951ms/step - loss: 2.4280 - val_loss: 2.6796\n",
      "Epoch 11/30\n",
      "531/531 [==============================] - ETA: 0s - loss: 2.3559\n",
      "Epoch 00011: val_loss improved from 2.67963 to 2.66297, saving model to Electric Guitar.h5\n",
      "531/531 [==============================] - 500s 941ms/step - loss: 2.3559 - val_loss: 2.6630\n",
      "Epoch 12/30\n",
      "531/531 [==============================] - ETA: 0s - loss: 2.2844\n",
      "Epoch 00012: val_loss improved from 2.66297 to 2.61262, saving model to Electric Guitar.h5\n",
      "531/531 [==============================] - 514s 969ms/step - loss: 2.2844 - val_loss: 2.6126\n",
      "Epoch 13/30\n",
      "531/531 [==============================] - ETA: 0s - loss: 2.2206\n",
      "Epoch 00013: val_loss did not improve from 2.61262\n",
      "531/531 [==============================] - 507s 956ms/step - loss: 2.2206 - val_loss: 2.6158\n",
      "Epoch 14/30\n",
      "531/531 [==============================] - ETA: 0s - loss: 2.1636\n",
      "Epoch 00014: val_loss improved from 2.61262 to 2.57202, saving model to Electric Guitar.h5\n",
      "531/531 [==============================] - 499s 940ms/step - loss: 2.1636 - val_loss: 2.5720\n",
      "Epoch 15/30\n",
      "531/531 [==============================] - ETA: 0s - loss: 2.1063\n",
      "Epoch 00015: val_loss did not improve from 2.57202\n",
      "531/531 [==============================] - 470s 885ms/step - loss: 2.1063 - val_loss: 2.6068\n",
      "Epoch 16/30\n",
      "531/531 [==============================] - ETA: 0s - loss: 2.0518\n",
      "Epoch 00016: val_loss improved from 2.57202 to 2.54066, saving model to Electric Guitar.h5\n",
      "531/531 [==============================] - 418s 787ms/step - loss: 2.0518 - val_loss: 2.5407\n",
      "Epoch 17/30\n",
      "531/531 [==============================] - ETA: 0s - loss: 2.0000\n",
      "Epoch 00017: val_loss improved from 2.54066 to 2.53834, saving model to Electric Guitar.h5\n",
      "531/531 [==============================] - 377s 710ms/step - loss: 2.0000 - val_loss: 2.5383\n",
      "Epoch 18/30\n",
      "531/531 [==============================] - ETA: 0s - loss: 1.9499\n",
      "Epoch 00018: val_loss improved from 2.53834 to 2.53150, saving model to Electric Guitar.h5\n",
      "531/531 [==============================] - 346s 652ms/step - loss: 1.9499 - val_loss: 2.5315\n",
      "Epoch 19/30\n",
      "531/531 [==============================] - ETA: 0s - loss: 1.9060\n",
      "Epoch 00019: val_loss did not improve from 2.53150\n",
      "531/531 [==============================] - 343s 647ms/step - loss: 1.9060 - val_loss: 2.5624\n",
      "Epoch 20/30\n",
      "531/531 [==============================] - ETA: 0s - loss: 1.8608\n",
      "Epoch 00020: val_loss did not improve from 2.53150\n",
      "531/531 [==============================] - 338s 636ms/step - loss: 1.8608 - val_loss: 2.5402\n",
      "Epoch 21/30\n",
      "531/531 [==============================] - ETA: 0s - loss: 1.8134\n",
      "Epoch 00021: val_loss did not improve from 2.53150\n",
      "531/531 [==============================] - 325s 613ms/step - loss: 1.8134 - val_loss: 2.5574\n",
      "Epoch 22/30\n",
      "531/531 [==============================] - ETA: 0s - loss: 1.7805\n",
      "Epoch 00022: val_loss did not improve from 2.53150\n",
      "531/531 [==============================] - 317s 598ms/step - loss: 1.7805 - val_loss: 2.5481\n",
      "Epoch 23/30\n",
      "531/531 [==============================] - ETA: 0s - loss: 1.7343\n",
      "Epoch 00023: val_loss did not improve from 2.53150\n",
      "531/531 [==============================] - 344s 648ms/step - loss: 1.7343 - val_loss: 2.5486\n",
      "Epoch 24/30\n",
      "531/531 [==============================] - ETA: 0s - loss: 1.6953\n",
      "Epoch 00024: val_loss did not improve from 2.53150\n",
      "531/531 [==============================] - 361s 679ms/step - loss: 1.6953 - val_loss: 2.5711\n",
      "Epoch 25/30\n",
      "531/531 [==============================] - ETA: 0s - loss: 1.6603\n",
      "Epoch 00025: val_loss did not improve from 2.53150\n",
      "531/531 [==============================] - 361s 680ms/step - loss: 1.6603 - val_loss: 2.5822\n",
      "Epoch 26/30\n",
      "531/531 [==============================] - ETA: 0s - loss: 1.6254\n",
      "Epoch 00026: val_loss did not improve from 2.53150\n",
      "531/531 [==============================] - 345s 650ms/step - loss: 1.6254 - val_loss: 2.5643\n",
      "Epoch 27/30\n",
      "531/531 [==============================] - ETA: 0s - loss: 1.5900\n",
      "Epoch 00027: val_loss did not improve from 2.53150\n",
      "531/531 [==============================] - 351s 661ms/step - loss: 1.5900 - val_loss: 2.5888\n",
      "Epoch 28/30\n",
      "531/531 [==============================] - ETA: 0s - loss: 1.5653\n",
      "Epoch 00028: val_loss did not improve from 2.53150\n",
      "531/531 [==============================] - 346s 651ms/step - loss: 1.5653 - val_loss: 2.6064\n",
      "Epoch 29/30\n",
      "531/531 [==============================] - ETA: 0s - loss: 1.5231\n",
      "Epoch 00029: val_loss did not improve from 2.53150\n",
      "531/531 [==============================] - 368s 693ms/step - loss: 1.5231 - val_loss: 2.6027\n",
      "Epoch 30/30\n",
      "531/531 [==============================] - ETA: 0s - loss: 1.4950\n",
      "Epoch 00030: val_loss did not improve from 2.53150\n",
      "531/531 [==============================] - 381s 717ms/step - loss: 1.4950 - val_loss: 2.6341\n"
     ]
    }
   ],
   "source": [
    "from keras.layers import *\n",
    "from keras.models import *\n",
    "from keras.callbacks import *\n",
    "import keras.backend as K\n",
    "\n",
    "K.clear_session()\n",
    "if(os.path.isfile(\"Electric Guitar.h5\") == False):\n",
    "    model=lstm()\n",
    "    mc=ModelCheckpoint('Electric Guitar.h5', monitor='val_loss', mode='min', save_best_only=True,verbose=1)\n",
    "    history = model.fit(np.array(x_tr),np.array(y_tr),batch_size=128,\n",
    "                        epochs=30, validation_data=(np.array(x_val),np.array(y_val)),\n",
    "                        verbose=1, callbacks=[mc])"
   ]
  },
  {
   "cell_type": "code",
   "execution_count": 13,
   "metadata": {},
   "outputs": [],
   "source": [
    "#loading best model\n",
    "from keras.models import load_model\n",
    "model = load_model('Electric Guitar.h5')"
   ]
  },
  {
   "cell_type": "code",
   "execution_count": 15,
   "metadata": {},
   "outputs": [],
   "source": [
    "def prediction():\n",
    "    import random\n",
    "    ind = np.random.randint(0,len(x_val)-1)\n",
    "\n",
    "    random_music = x_val[ind]\n",
    "\n",
    "    predictions=[]\n",
    "    for i in range(30):\n",
    "\n",
    "        random_music = random_music.reshape(1,no_of_timesteps,1)\n",
    "\n",
    "        prob  = model.predict(random_music)[0]\n",
    "        y_pred= np.argmax(prob,axis=0)\n",
    "        predictions.append(y_pred)\n",
    "\n",
    "        random_music = np.insert(random_music[0],len(random_music[0]),y_pred)\n",
    "        random_music = random_music[1:]\n",
    "\n",
    "    print(predictions)\n",
    "\n",
    "    x_int_to_note = dict((number, note_) for number, note_ in enumerate(unique_x)) \n",
    "    predicted_notes = [x_int_to_note[i] for i in predictions]\n",
    "    return predicted_notes"
   ]
  },
  {
   "cell_type": "code",
   "execution_count": 19,
   "metadata": {},
   "outputs": [],
   "source": [
    "def convert_to_midi(prediction_output):\n",
    "   \n",
    "    offset = 0\n",
    "    output_notes = []\n",
    "\n",
    "    # create note and chord objects based on the values generated by the model\n",
    "    for pattern in prediction_output:\n",
    "        \n",
    "        # pattern is a chord\n",
    "        if ('.' in pattern) or pattern.isdigit():\n",
    "            notes_in_chord = pattern.split('.')\n",
    "            notes = []\n",
    "            for current_note in notes_in_chord:\n",
    "                \n",
    "                cn=int(current_note)\n",
    "                new_note = note.Note(cn)\n",
    "                new_note.storedInstrument = instrument.ElectricGuitar()\n",
    "                notes.append(new_note)\n",
    "                \n",
    "            new_chord = chord.Chord(notes)\n",
    "            new_chord.offset = offset\n",
    "            output_notes.append(new_chord)\n",
    "            \n",
    "        # pattern is a note\n",
    "        else:\n",
    "            \n",
    "            new_note = note.Note(pattern)\n",
    "            new_note.offset = offset\n",
    "            new_note.storedInstrument = instrument.ElectricGuitar()\n",
    "            output_notes.append(new_note)\n",
    "\n",
    "        # increase offset each iteration so that notes do not stack\n",
    "        offset += 0.5\n",
    "    output_notes.append(instrument.ElectricGuitar())\n",
    "    midi_stream = stream.Stream(output_notes)\n",
    "    midi_stream.write('midi', fp='Electric Guitar.mid')"
   ]
  },
  {
   "cell_type": "code",
   "execution_count": 20,
   "metadata": {},
   "outputs": [
    {
     "name": "stdout",
     "output_type": "stream",
     "text": [
      "[165, 96, 58, 77, 58, 127, 58, 45, 127, 92, 43, 45, 45, 45, 45, 45, 45, 43, 43, 43, 43, 43, 44, 44, 44, 44, 44, 44, 45, 45]\n"
     ]
    }
   ],
   "source": [
    "predicted_notes=prediction()\n",
    "convert_to_midi(predicted_notes)"
   ]
  },
  {
   "cell_type": "code",
   "execution_count": 23,
   "metadata": {},
   "outputs": [
    {
     "data": {
      "text/plain": [
       "0"
      ]
     },
     "execution_count": 23,
     "metadata": {},
     "output_type": "execute_result"
    }
   ],
   "source": [
    "import subprocess\n",
    "subprocess.call(['sh', 'ElectricGuitar.sh'])"
   ]
  },
  {
   "cell_type": "code",
   "execution_count": null,
   "metadata": {},
   "outputs": [],
   "source": []
  },
  {
   "cell_type": "code",
   "execution_count": null,
   "metadata": {},
   "outputs": [],
   "source": []
  }
 ],
 "metadata": {
  "kernelspec": {
   "display_name": "Python 3",
   "language": "python",
   "name": "python3"
  },
  "language_info": {
   "codemirror_mode": {
    "name": "ipython",
    "version": 3
   },
   "file_extension": ".py",
   "mimetype": "text/x-python",
   "name": "python",
   "nbconvert_exporter": "python",
   "pygments_lexer": "ipython3",
   "version": "3.8.3"
  }
 },
 "nbformat": 4,
 "nbformat_minor": 4
}
