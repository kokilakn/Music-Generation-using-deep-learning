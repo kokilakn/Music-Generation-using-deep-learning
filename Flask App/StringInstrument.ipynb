{
 "cells": [
  {
   "cell_type": "code",
   "execution_count": 1,
   "metadata": {},
   "outputs": [],
   "source": [
    "from music21 import *\n",
    "import csv\n",
    "import numpy as np"
   ]
  },
  {
   "cell_type": "code",
   "execution_count": 2,
   "metadata": {},
   "outputs": [],
   "source": [
    "def read_midi(file):\n",
    "    \n",
    "    notes=[]\n",
    "    notes_to_parse = None\n",
    "    \n",
    "    #parsing a midi file\n",
    "    midi = converter.parse(file)\n",
    "  \n",
    "    #grouping based on different instruments\n",
    "    s2 = instrument.partitionByInstrument(midi)\n",
    "\n",
    "    #Looping over all the instruments\n",
    "    for part in s2.parts:\n",
    "    \n",
    "        #select elements of only piano\n",
    "        if 'String Instrument' in str(part): \n",
    "            notes_to_parse = part.recurse() \n",
    "      \n",
    "            #finding whether a particular element is note or a chord\n",
    "            for element in notes_to_parse:\n",
    "                \n",
    "                #note\n",
    "                if isinstance(element, note.Note):\n",
    "                    notes.append(str(element.pitch))\n",
    "                \n",
    "                #chord\n",
    "                elif isinstance(element, chord.Chord):\n",
    "                    notes.append('.'.join(str(n) for n in element.normalOrder))\n",
    "\n",
    "    return np.array(notes)\n",
    "\n",
    "import os\n",
    "import os.path\n",
    "if (os.path.isfile(\"String Instrument.csv\") == False):\n",
    "    path='/Users/kokilareddy/Downloads/midis/Guitar_midkar.com_MIDIRip/jazz/'\n",
    "\n",
    "    #read all the filenames\n",
    "    files=[i for i in os.listdir(path) if i.endswith(\".mid\")]\n",
    "\n",
    "    #reading each midi file\n",
    "    notes_array = np.array([read_midi(path+i) for i in files])\n",
    "    \n",
    "    import csv\n",
    "    with open(\"String Instrument.csv\", \"w\") as f:\n",
    "        writer = csv.writer(f)\n",
    "        writer.writerows(notes_array)\n",
    "else:\n",
    "    data_2d = []\n",
    "    with open('String Instrument.csv', newline='\\n') as f:\n",
    "        reader = csv.reader(f, delimiter=';')\n",
    "        for row in reader:\n",
    "            data_2d.append([x for x in row])\n",
    "    i=0;\n",
    "    for music in data_2d:\n",
    "        if (music):\n",
    "            data_2d[i] = music[0].split(\",\")\n",
    "        i+=1\n",
    "    notes_array = data_2d"
   ]
  },
  {
   "cell_type": "code",
   "execution_count": 3,
   "metadata": {},
   "outputs": [
    {
     "name": "stdout",
     "output_type": "stream",
     "text": [
      "611\n"
     ]
    }
   ],
   "source": [
    "#converting 2D array into 1D array\n",
    "notes_ = [element for note_ in notes_array for element in note_]\n",
    "\n",
    "#No. of unique notes\n",
    "unique_notes = list(set(notes_))\n",
    "print(len(unique_notes))"
   ]
  },
  {
   "cell_type": "code",
   "execution_count": 4,
   "metadata": {},
   "outputs": [],
   "source": [
    "#importing library\n",
    "from collections import Counter\n",
    "\n",
    "#computing frequency of each note\n",
    "freq = dict(Counter(notes_))\n",
    "\n",
    "#library for visualiation\n",
    "import matplotlib.pyplot as plt\n",
    "\n",
    "#consider only the frequencies\n",
    "no=[count for _,count in freq.items()]"
   ]
  },
  {
   "cell_type": "code",
   "execution_count": 5,
   "metadata": {},
   "outputs": [
    {
     "name": "stdout",
     "output_type": "stream",
     "text": [
      "169\n"
     ]
    }
   ],
   "source": [
    "frequent_notes = [note_ for note_, count in freq.items() if count>=50]\n",
    "print(len(frequent_notes))"
   ]
  },
  {
   "cell_type": "code",
   "execution_count": 6,
   "metadata": {},
   "outputs": [],
   "source": [
    "new_music=[]\n",
    "\n",
    "for notes in notes_array:\n",
    "    temp=[]\n",
    "    for note_ in notes:\n",
    "        if note_ in frequent_notes:\n",
    "            temp.append(note_)            \n",
    "    new_music.append(temp)\n",
    "    \n",
    "new_music = np.array(new_music)"
   ]
  },
  {
   "cell_type": "code",
   "execution_count": 7,
   "metadata": {},
   "outputs": [],
   "source": [
    "no_of_timesteps = 32\n",
    "x = []\n",
    "y = []\n",
    "\n",
    "for note_ in new_music:\n",
    "    for i in range(0, len(note_) - no_of_timesteps, 1):\n",
    "        \n",
    "        #preparing input and output sequences\n",
    "        input_ = note_[i:i + no_of_timesteps]\n",
    "        output = note_[i + no_of_timesteps]\n",
    "        \n",
    "        x.append(input_)\n",
    "        y.append(output)\n",
    "        \n",
    "x=np.array(x)\n",
    "y=np.array(y)"
   ]
  },
  {
   "cell_type": "code",
   "execution_count": 8,
   "metadata": {},
   "outputs": [],
   "source": [
    "unique_x = list(set(x.ravel()))\n",
    "x_note_to_int = dict((note_, number) for number, note_ in enumerate(unique_x))\n",
    "#preparing input sequences\n",
    "x_seq=[]\n",
    "for i in x:\n",
    "    temp=[]\n",
    "    for j in i:\n",
    "        #assigning unique integer to every note\n",
    "        temp.append(x_note_to_int[j])\n",
    "    x_seq.append(temp)\n",
    "    \n",
    "x_seq = np.array(x_seq)"
   ]
  },
  {
   "cell_type": "code",
   "execution_count": 9,
   "metadata": {},
   "outputs": [],
   "source": [
    "unique_y = list(set(y))\n",
    "y_note_to_int = dict((note_, number) for number, note_ in enumerate(unique_y)) \n",
    "y_seq=np.array([y_note_to_int[i] for i in y])"
   ]
  },
  {
   "cell_type": "code",
   "execution_count": 10,
   "metadata": {},
   "outputs": [],
   "source": [
    "from sklearn.model_selection import train_test_split\n",
    "x_tr, x_val, y_tr, y_val = train_test_split(x_seq,y_seq,test_size=0.2,random_state=0)\n",
    "x_tr = np.reshape(x_tr, (x_tr.shape[0], no_of_timesteps, 1))\n",
    "x_val = np.reshape(x_val, (x_val.shape[0], no_of_timesteps, 1))"
   ]
  },
  {
   "cell_type": "code",
   "execution_count": 11,
   "metadata": {},
   "outputs": [],
   "source": [
    "def lstm():\n",
    "    model = Sequential()\n",
    "    model.add(LSTM(128,return_sequences=True, input_shape = (x_tr.shape[1], 1)))\n",
    "    model.add(LSTM(128))\n",
    "    model.add(Dense(256))\n",
    "    model.add(Activation('relu'))\n",
    "    model.add(Dense(len(unique_y)))\n",
    "    model.add(Activation('softmax'))\n",
    "    model.compile(loss='sparse_categorical_crossentropy', optimizer='adam')\n",
    "    return model"
   ]
  },
  {
   "cell_type": "code",
   "execution_count": 12,
   "metadata": {},
   "outputs": [
    {
     "name": "stdout",
     "output_type": "stream",
     "text": [
      "Epoch 1/30\n",
      "303/303 [==============================] - ETA: 0s - loss: 4.5456\n",
      "Epoch 00001: val_loss improved from inf to 4.37884, saving model to StringInstrument.h5\n",
      "303/303 [==============================] - 177s 584ms/step - loss: 4.5456 - val_loss: 4.3788\n",
      "Epoch 2/30\n",
      "303/303 [==============================] - ETA: 0s - loss: 4.3029\n",
      "Epoch 00002: val_loss improved from 4.37884 to 4.19974, saving model to StringInstrument.h5\n",
      "303/303 [==============================] - 209s 689ms/step - loss: 4.3029 - val_loss: 4.1997\n",
      "Epoch 3/30\n",
      "303/303 [==============================] - ETA: 0s - loss: 4.1333\n",
      "Epoch 00003: val_loss improved from 4.19974 to 4.06627, saving model to StringInstrument.h5\n",
      "303/303 [==============================] - 226s 744ms/step - loss: 4.1333 - val_loss: 4.0663\n",
      "Epoch 4/30\n",
      "303/303 [==============================] - ETA: 0s - loss: 3.9934\n",
      "Epoch 00004: val_loss improved from 4.06627 to 3.97983, saving model to StringInstrument.h5\n",
      "303/303 [==============================] - 273s 902ms/step - loss: 3.9934 - val_loss: 3.9798\n",
      "Epoch 5/30\n",
      "303/303 [==============================] - ETA: 0s - loss: 3.8775\n",
      "Epoch 00005: val_loss improved from 3.97983 to 3.91085, saving model to StringInstrument.h5\n",
      "303/303 [==============================] - 293s 967ms/step - loss: 3.8775 - val_loss: 3.9109\n",
      "Epoch 6/30\n",
      "303/303 [==============================] - ETA: 0s - loss: 3.7641\n",
      "Epoch 00006: val_loss improved from 3.91085 to 3.79808, saving model to StringInstrument.h5\n",
      "303/303 [==============================] - 285s 942ms/step - loss: 3.7641 - val_loss: 3.7981\n",
      "Epoch 7/30\n",
      "303/303 [==============================] - ETA: 0s - loss: 3.6541\n",
      "Epoch 00007: val_loss improved from 3.79808 to 3.72566, saving model to StringInstrument.h5\n",
      "303/303 [==============================] - 288s 952ms/step - loss: 3.6541 - val_loss: 3.7257\n",
      "Epoch 8/30\n",
      "303/303 [==============================] - ETA: 0s - loss: 3.5434\n",
      "Epoch 00008: val_loss improved from 3.72566 to 3.67433, saving model to StringInstrument.h5\n",
      "303/303 [==============================] - 276s 909ms/step - loss: 3.5434 - val_loss: 3.6743\n",
      "Epoch 9/30\n",
      "303/303 [==============================] - ETA: 0s - loss: 3.4312\n",
      "Epoch 00009: val_loss improved from 3.67433 to 3.65369, saving model to StringInstrument.h5\n",
      "303/303 [==============================] - 287s 947ms/step - loss: 3.4312 - val_loss: 3.6537\n",
      "Epoch 10/30\n",
      "303/303 [==============================] - ETA: 0s - loss: 3.3248\n",
      "Epoch 00010: val_loss improved from 3.65369 to 3.56706, saving model to StringInstrument.h5\n",
      "303/303 [==============================] - 262s 863ms/step - loss: 3.3248 - val_loss: 3.5671\n",
      "Epoch 11/30\n",
      "303/303 [==============================] - ETA: 0s - loss: 3.2179\n",
      "Epoch 00011: val_loss improved from 3.56706 to 3.54308, saving model to StringInstrument.h5\n",
      "303/303 [==============================] - 266s 879ms/step - loss: 3.2179 - val_loss: 3.5431\n",
      "Epoch 12/30\n",
      "303/303 [==============================] - ETA: 0s - loss: 3.1185\n",
      "Epoch 00012: val_loss improved from 3.54308 to 3.50295, saving model to StringInstrument.h5\n",
      "303/303 [==============================] - 264s 873ms/step - loss: 3.1185 - val_loss: 3.5029\n",
      "Epoch 13/30\n",
      "303/303 [==============================] - ETA: 0s - loss: 3.0258\n",
      "Epoch 00013: val_loss improved from 3.50295 to 3.47077, saving model to StringInstrument.h5\n",
      "303/303 [==============================] - 277s 914ms/step - loss: 3.0258 - val_loss: 3.4708\n",
      "Epoch 14/30\n",
      "303/303 [==============================] - ETA: 0s - loss: 2.9330\n",
      "Epoch 00014: val_loss improved from 3.47077 to 3.46664, saving model to StringInstrument.h5\n",
      "303/303 [==============================] - 301s 992ms/step - loss: 2.9330 - val_loss: 3.4666\n",
      "Epoch 15/30\n",
      "303/303 [==============================] - ETA: 0s - loss: 2.8444\n",
      "Epoch 00015: val_loss improved from 3.46664 to 3.43564, saving model to StringInstrument.h5\n",
      "303/303 [==============================] - 259s 855ms/step - loss: 2.8444 - val_loss: 3.4356\n",
      "Epoch 16/30\n",
      "303/303 [==============================] - ETA: 0s - loss: 2.7581\n",
      "Epoch 00016: val_loss improved from 3.43564 to 3.43220, saving model to StringInstrument.h5\n",
      "303/303 [==============================] - 250s 825ms/step - loss: 2.7581 - val_loss: 3.4322\n",
      "Epoch 17/30\n",
      "303/303 [==============================] - ETA: 0s - loss: 2.6783\n",
      "Epoch 00017: val_loss did not improve from 3.43220\n",
      "303/303 [==============================] - 255s 841ms/step - loss: 2.6783 - val_loss: 3.4326\n",
      "Epoch 18/30\n",
      "303/303 [==============================] - ETA: 0s - loss: 2.6004\n",
      "Epoch 00018: val_loss improved from 3.43220 to 3.40589, saving model to StringInstrument.h5\n",
      "303/303 [==============================] - 290s 957ms/step - loss: 2.6004 - val_loss: 3.4059\n",
      "Epoch 19/30\n",
      "303/303 [==============================] - ETA: 0s - loss: 2.5234\n",
      "Epoch 00019: val_loss did not improve from 3.40589\n",
      "303/303 [==============================] - 282s 929ms/step - loss: 2.5234 - val_loss: 3.4192\n",
      "Epoch 20/30\n",
      "303/303 [==============================] - ETA: 0s - loss: 2.4495\n",
      "Epoch 00020: val_loss improved from 3.40589 to 3.40328, saving model to StringInstrument.h5\n",
      "303/303 [==============================] - 287s 947ms/step - loss: 2.4495 - val_loss: 3.4033\n",
      "Epoch 21/30\n",
      "303/303 [==============================] - ETA: 0s - loss: 2.3780\n",
      "Epoch 00021: val_loss did not improve from 3.40328\n",
      "303/303 [==============================] - 278s 919ms/step - loss: 2.3780 - val_loss: 3.4331\n",
      "Epoch 22/30\n",
      "303/303 [==============================] - ETA: 0s - loss: 2.3126\n",
      "Epoch 00022: val_loss did not improve from 3.40328\n",
      "303/303 [==============================] - 293s 966ms/step - loss: 2.3126 - val_loss: 3.4172\n",
      "Epoch 23/30\n",
      "303/303 [==============================] - ETA: 0s - loss: 2.2466\n",
      "Epoch 00023: val_loss did not improve from 3.40328\n",
      "303/303 [==============================] - 288s 949ms/step - loss: 2.2466 - val_loss: 3.4490\n",
      "Epoch 24/30\n",
      "303/303 [==============================] - ETA: 0s - loss: 2.1801\n",
      "Epoch 00024: val_loss did not improve from 3.40328\n",
      "303/303 [==============================] - 278s 918ms/step - loss: 2.1801 - val_loss: 3.4707\n",
      "Epoch 25/30\n",
      "303/303 [==============================] - ETA: 0s - loss: 2.1158\n",
      "Epoch 00025: val_loss did not improve from 3.40328\n",
      "303/303 [==============================] - 279s 919ms/step - loss: 2.1158 - val_loss: 3.4676\n",
      "Epoch 26/30\n",
      "303/303 [==============================] - ETA: 0s - loss: 2.0574\n",
      "Epoch 00026: val_loss did not improve from 3.40328\n",
      "303/303 [==============================] - 272s 899ms/step - loss: 2.0574 - val_loss: 3.4731\n",
      "Epoch 27/30\n",
      "303/303 [==============================] - ETA: 0s - loss: 1.9969\n",
      "Epoch 00027: val_loss did not improve from 3.40328\n",
      "303/303 [==============================] - 274s 903ms/step - loss: 1.9969 - val_loss: 3.5178\n",
      "Epoch 28/30\n",
      "303/303 [==============================] - ETA: 0s - loss: 1.9388\n",
      "Epoch 00028: val_loss did not improve from 3.40328\n",
      "303/303 [==============================] - 229s 755ms/step - loss: 1.9388 - val_loss: 3.5208\n",
      "Epoch 29/30\n",
      "303/303 [==============================] - ETA: 0s - loss: 1.8794\n",
      "Epoch 00029: val_loss did not improve from 3.40328\n",
      "303/303 [==============================] - 238s 784ms/step - loss: 1.8794 - val_loss: 3.5406\n",
      "Epoch 30/30\n",
      "303/303 [==============================] - ETA: 0s - loss: 1.8317\n",
      "Epoch 00030: val_loss did not improve from 3.40328\n",
      "303/303 [==============================] - 232s 764ms/step - loss: 1.8317 - val_loss: 3.5793\n"
     ]
    }
   ],
   "source": [
    "from keras.layers import *\n",
    "from keras.models import *\n",
    "from keras.callbacks import *\n",
    "import keras.backend as K\n",
    "\n",
    "K.clear_session()\n",
    "if(os.path.isfile(\"StringInstrument.h5\") == False):\n",
    "    model=lstm()\n",
    "    mc=ModelCheckpoint('StringInstrument.h5', monitor='val_loss', mode='min', save_best_only=True,verbose=1)\n",
    "    history = model.fit(np.array(x_tr),np.array(y_tr),batch_size=128,\n",
    "                        epochs=30, validation_data=(np.array(x_val),np.array(y_val)),\n",
    "                        verbose=1, callbacks=[mc])"
   ]
  },
  {
   "cell_type": "code",
   "execution_count": 13,
   "metadata": {},
   "outputs": [],
   "source": [
    "#loading best model\n",
    "from keras.models import load_model\n",
    "model = load_model('StringInstrument.h5')"
   ]
  },
  {
   "cell_type": "code",
   "execution_count": 15,
   "metadata": {},
   "outputs": [],
   "source": [
    "def prediction():\n",
    "    import random\n",
    "    ind = np.random.randint(0,len(x_val)-1)\n",
    "\n",
    "    random_music = x_val[ind]\n",
    "\n",
    "    predictions=[]\n",
    "    for i in range(30):\n",
    "\n",
    "        random_music = random_music.reshape(1,no_of_timesteps,1)\n",
    "\n",
    "        prob  = model.predict(random_music)[0]\n",
    "        y_pred= np.argmax(prob,axis=0)\n",
    "        predictions.append(y_pred)\n",
    "\n",
    "        random_music = np.insert(random_music[0],len(random_music[0]),y_pred)\n",
    "        random_music = random_music[1:]\n",
    "\n",
    "    print(predictions)\n",
    "\n",
    "    x_int_to_note = dict((number, note_) for number, note_ in enumerate(unique_x)) \n",
    "    predicted_notes = [x_int_to_note[i] for i in predictions]\n",
    "    return predicted_notes"
   ]
  },
  {
   "cell_type": "code",
   "execution_count": 16,
   "metadata": {},
   "outputs": [],
   "source": [
    "def convert_to_midi(prediction_output):\n",
    "   \n",
    "    offset = 0\n",
    "    output_notes = []\n",
    "\n",
    "    # create note and chord objects based on the values generated by the model\n",
    "    for pattern in prediction_output:\n",
    "        \n",
    "        # pattern is a chord\n",
    "        if ('.' in pattern) or pattern.isdigit():\n",
    "            notes_in_chord = pattern.split('.')\n",
    "            notes = []\n",
    "            for current_note in notes_in_chord:\n",
    "                \n",
    "                cn=int(current_note)\n",
    "                new_note = note.Note(cn)\n",
    "                new_note.storedInstrument = instrument.StringInstrument()\n",
    "                notes.append(new_note)\n",
    "                \n",
    "            new_chord = chord.Chord(notes)\n",
    "            new_chord.offset = offset\n",
    "            output_notes.append(new_chord)\n",
    "            \n",
    "        # pattern is a note\n",
    "        else:\n",
    "            \n",
    "            new_note = note.Note(pattern)\n",
    "            new_note.offset = offset\n",
    "            new_note.storedInstrument = instrument.StringInstrument()\n",
    "            output_notes.append(new_note)\n",
    "\n",
    "        # increase offset each iteration so that notes do not stack\n",
    "        offset += 0.5\n",
    "    output_notes.append(instrument.StringInstrument())\n",
    "    midi_stream = stream.Stream(output_notes)\n",
    "    midi_stream.write('midi', fp='StringInstrument.mid')"
   ]
  },
  {
   "cell_type": "code",
   "execution_count": 25,
   "metadata": {},
   "outputs": [
    {
     "name": "stdout",
     "output_type": "stream",
     "text": [
      "[129, 129, 130, 130, 12, 113, 145, 87, 87, 135, 35, 60, 135, 135, 135, 130, 130, 130, 12, 60, 87, 135, 145, 35, 60, 87, 135, 135, 35, 60]\n"
     ]
    }
   ],
   "source": [
    "predicted_notes=prediction()\n",
    "convert_to_midi(predicted_notes)"
   ]
  },
  {
   "cell_type": "code",
   "execution_count": 26,
   "metadata": {},
   "outputs": [
    {
     "data": {
      "text/plain": [
       "0"
      ]
     },
     "execution_count": 26,
     "metadata": {},
     "output_type": "execute_result"
    }
   ],
   "source": [
    "import subprocess\n",
    "subprocess.call(['sh', 'StringInstrument.sh'])"
   ]
  },
  {
   "cell_type": "code",
   "execution_count": null,
   "metadata": {},
   "outputs": [],
   "source": []
  },
  {
   "cell_type": "code",
   "execution_count": null,
   "metadata": {},
   "outputs": [],
   "source": []
  },
  {
   "cell_type": "code",
   "execution_count": null,
   "metadata": {},
   "outputs": [],
   "source": []
  },
  {
   "cell_type": "code",
   "execution_count": null,
   "metadata": {},
   "outputs": [],
   "source": []
  }
 ],
 "metadata": {
  "kernelspec": {
   "display_name": "Python 3",
   "language": "python",
   "name": "python3"
  },
  "language_info": {
   "codemirror_mode": {
    "name": "ipython",
    "version": 3
   },
   "file_extension": ".py",
   "mimetype": "text/x-python",
   "name": "python",
   "nbconvert_exporter": "python",
   "pygments_lexer": "ipython3",
   "version": "3.8.3"
  }
 },
 "nbformat": 4,
 "nbformat_minor": 4
}
