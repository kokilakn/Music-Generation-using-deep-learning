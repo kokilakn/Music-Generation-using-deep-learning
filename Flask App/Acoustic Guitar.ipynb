{
 "cells": [
  {
   "cell_type": "code",
   "execution_count": 1,
   "metadata": {},
   "outputs": [],
   "source": [
    "from music21 import *\n",
    "import csv\n",
    "import numpy as np"
   ]
  },
  {
   "cell_type": "code",
   "execution_count": 2,
   "metadata": {},
   "outputs": [],
   "source": [
    "def read_midi(file):\n",
    "    \n",
    "    notes=[]\n",
    "    notes_to_parse = None\n",
    "    \n",
    "    #parsing a midi file\n",
    "    midi = converter.parse(file)\n",
    "  \n",
    "    #grouping based on different instruments\n",
    "    s2 = instrument.partitionByInstrument(midi)\n",
    "\n",
    "    #Looping over all the instruments\n",
    "    for part in s2.parts:\n",
    "    \n",
    "        #select elements of only piano\n",
    "        if 'Acoustic Guitar' in str(part): \n",
    "            notes_to_parse = part.recurse() \n",
    "      \n",
    "            #finding whether a particular element is note or a chord\n",
    "            for element in notes_to_parse:\n",
    "                \n",
    "                #note\n",
    "                if isinstance(element, note.Note):\n",
    "                    notes.append(str(element.pitch))\n",
    "                \n",
    "                #chord\n",
    "                elif isinstance(element, chord.Chord):\n",
    "                    notes.append('.'.join(str(n) for n in element.normalOrder))\n",
    "\n",
    "    return np.array(notes)\n",
    "\n",
    "import os\n",
    "import os.path\n",
    "if (os.path.isfile(\"Acoustic Guitar.csv\") == False):\n",
    "    path='/Users/kokilareddy/Downloads/midis/Guitar_midkar.com_MIDIRip/jazz/'\n",
    "\n",
    "    #read all the filenames\n",
    "    files=[i for i in os.listdir(path) if i.endswith(\".mid\")]\n",
    "\n",
    "    #reading each midi file\n",
    "    notes_array = np.array([read_midi(path+i) for i in files])\n",
    "    \n",
    "    import csv\n",
    "    with open(\"Acoustic Guitar.csv\", \"w\") as f:\n",
    "        writer = csv.writer(f)\n",
    "        writer.writerows(notes_array)\n",
    "else:\n",
    "    data_2d = []\n",
    "    with open('Acoustic Guitar.csv', newline='\\n') as f:\n",
    "        reader = csv.reader(f, delimiter=';')\n",
    "        for row in reader:\n",
    "            data_2d.append([x for x in row])\n",
    "    i=0;\n",
    "    for music in data_2d:\n",
    "        if (music):\n",
    "            data_2d[i] = music[0].split(\",\")\n",
    "        i+=1\n",
    "    notes_array = data_2d"
   ]
  },
  {
   "cell_type": "code",
   "execution_count": 3,
   "metadata": {},
   "outputs": [
    {
     "name": "stdout",
     "output_type": "stream",
     "text": [
      "596\n"
     ]
    }
   ],
   "source": [
    "#converting 2D array into 1D array\n",
    "notes_ = [element for note_ in notes_array for element in note_]\n",
    "\n",
    "#No. of unique notes\n",
    "unique_notes = list(set(notes_))\n",
    "print(len(unique_notes))"
   ]
  },
  {
   "cell_type": "code",
   "execution_count": 4,
   "metadata": {},
   "outputs": [],
   "source": [
    "#importing library\n",
    "from collections import Counter\n",
    "\n",
    "#computing frequency of each note\n",
    "freq = dict(Counter(notes_))\n",
    "\n",
    "#library for visualiation\n",
    "import matplotlib.pyplot as plt\n",
    "\n",
    "#consider only the frequencies\n",
    "no=[count for _,count in freq.items()]"
   ]
  },
  {
   "cell_type": "code",
   "execution_count": 5,
   "metadata": {},
   "outputs": [
    {
     "name": "stdout",
     "output_type": "stream",
     "text": [
      "202\n"
     ]
    }
   ],
   "source": [
    "frequent_notes = [note_ for note_, count in freq.items() if count>=50]\n",
    "print(len(frequent_notes))"
   ]
  },
  {
   "cell_type": "code",
   "execution_count": 6,
   "metadata": {},
   "outputs": [],
   "source": [
    "new_music=[]\n",
    "\n",
    "for notes in notes_array:\n",
    "    temp=[]\n",
    "    for note_ in notes:\n",
    "        if note_ in frequent_notes:\n",
    "            temp.append(note_)            \n",
    "    new_music.append(temp)\n",
    "    \n",
    "new_music = np.array(new_music)"
   ]
  },
  {
   "cell_type": "code",
   "execution_count": 7,
   "metadata": {},
   "outputs": [],
   "source": [
    "no_of_timesteps = 32\n",
    "x = []\n",
    "y = []\n",
    "\n",
    "for note_ in new_music:\n",
    "    for i in range(0, len(note_) - no_of_timesteps, 1):\n",
    "        \n",
    "        #preparing input and output sequences\n",
    "        input_ = note_[i:i + no_of_timesteps]\n",
    "        output = note_[i + no_of_timesteps]\n",
    "        \n",
    "        x.append(input_)\n",
    "        y.append(output)\n",
    "        \n",
    "x=np.array(x)\n",
    "y=np.array(y)"
   ]
  },
  {
   "cell_type": "code",
   "execution_count": 8,
   "metadata": {},
   "outputs": [],
   "source": [
    "unique_x = list(set(x.ravel()))\n",
    "x_note_to_int = dict((note_, number) for number, note_ in enumerate(unique_x))\n",
    "#preparing input sequences\n",
    "x_seq=[]\n",
    "for i in x:\n",
    "    temp=[]\n",
    "    for j in i:\n",
    "        #assigning unique integer to every note\n",
    "        temp.append(x_note_to_int[j])\n",
    "    x_seq.append(temp)\n",
    "    \n",
    "x_seq = np.array(x_seq)"
   ]
  },
  {
   "cell_type": "code",
   "execution_count": 9,
   "metadata": {},
   "outputs": [],
   "source": [
    "unique_y = list(set(y))\n",
    "y_note_to_int = dict((note_, number) for number, note_ in enumerate(unique_y)) \n",
    "y_seq=np.array([y_note_to_int[i] for i in y])"
   ]
  },
  {
   "cell_type": "code",
   "execution_count": 10,
   "metadata": {},
   "outputs": [],
   "source": [
    "from sklearn.model_selection import train_test_split\n",
    "x_tr, x_val, y_tr, y_val = train_test_split(x_seq,y_seq,test_size=0.2,random_state=0)\n",
    "x_tr = np.reshape(x_tr, (x_tr.shape[0], no_of_timesteps, 1))\n",
    "x_val = np.reshape(x_val, (x_val.shape[0], no_of_timesteps, 1))"
   ]
  },
  {
   "cell_type": "code",
   "execution_count": 11,
   "metadata": {},
   "outputs": [],
   "source": [
    "def lstm():\n",
    "    model = Sequential()\n",
    "    model.add(LSTM(128,return_sequences=True, input_shape = (x_tr.shape[1], 1)))\n",
    "    model.add(LSTM(128))\n",
    "    model.add(Dense(256))\n",
    "    model.add(Activation('relu'))\n",
    "    model.add(Dense(len(unique_y)))\n",
    "    model.add(Activation('softmax'))\n",
    "    model.compile(loss='sparse_categorical_crossentropy', optimizer='adam')\n",
    "    return model"
   ]
  },
  {
   "cell_type": "code",
   "execution_count": 12,
   "metadata": {},
   "outputs": [
    {
     "name": "stdout",
     "output_type": "stream",
     "text": [
      "Epoch 1/30\n",
      "721/721 [==============================] - ETA: 0s - loss: 4.1396\n",
      "Epoch 00001: val_loss improved from inf to 3.83933, saving model to Acoustic Guitar.h5\n",
      "721/721 [==============================] - 609s 845ms/step - loss: 4.1396 - val_loss: 3.8393\n",
      "Epoch 2/30\n",
      "721/721 [==============================] - ETA: 0s - loss: 3.6379\n",
      "Epoch 00002: val_loss improved from 3.83933 to 3.50767, saving model to Acoustic Guitar.h5\n",
      "721/721 [==============================] - 684s 949ms/step - loss: 3.6379 - val_loss: 3.5077\n",
      "Epoch 3/30\n",
      "721/721 [==============================] - ETA: 0s - loss: 3.3431\n",
      "Epoch 00003: val_loss improved from 3.50767 to 3.27591, saving model to Acoustic Guitar.h5\n",
      "721/721 [==============================] - 672s 931ms/step - loss: 3.3431 - val_loss: 3.2759\n",
      "Epoch 4/30\n",
      "721/721 [==============================] - ETA: 0s - loss: 3.1206\n",
      "Epoch 00004: val_loss improved from 3.27591 to 3.12012, saving model to Acoustic Guitar.h5\n",
      "721/721 [==============================] - 630s 874ms/step - loss: 3.1206 - val_loss: 3.1201\n",
      "Epoch 5/30\n",
      "721/721 [==============================] - ETA: 0s - loss: 2.9392\n",
      "Epoch 00005: val_loss improved from 3.12012 to 2.99291, saving model to Acoustic Guitar.h5\n",
      "721/721 [==============================] - 676s 938ms/step - loss: 2.9392 - val_loss: 2.9929\n",
      "Epoch 6/30\n",
      "721/721 [==============================] - ETA: 0s - loss: 2.7881\n",
      "Epoch 00006: val_loss improved from 2.99291 to 2.88022, saving model to Acoustic Guitar.h5\n",
      "721/721 [==============================] - 607s 842ms/step - loss: 2.7881 - val_loss: 2.8802\n",
      "Epoch 7/30\n",
      "721/721 [==============================] - ETA: 0s - loss: 2.6570\n",
      "Epoch 00007: val_loss improved from 2.88022 to 2.82020, saving model to Acoustic Guitar.h5\n",
      "721/721 [==============================] - 644s 893ms/step - loss: 2.6570 - val_loss: 2.8202\n",
      "Epoch 8/30\n",
      "721/721 [==============================] - ETA: 0s - loss: 2.5447\n",
      "Epoch 00008: val_loss improved from 2.82020 to 2.78620, saving model to Acoustic Guitar.h5\n",
      "721/721 [==============================] - 673s 933ms/step - loss: 2.5447 - val_loss: 2.7862\n",
      "Epoch 9/30\n",
      "721/721 [==============================] - ETA: 0s - loss: 2.4432\n",
      "Epoch 00009: val_loss improved from 2.78620 to 2.70940, saving model to Acoustic Guitar.h5\n",
      "721/721 [==============================] - 690s 957ms/step - loss: 2.4432 - val_loss: 2.7094\n",
      "Epoch 10/30\n",
      "721/721 [==============================] - ETA: 0s - loss: 2.3520\n",
      "Epoch 00010: val_loss improved from 2.70940 to 2.66500, saving model to Acoustic Guitar.h5\n",
      "721/721 [==============================] - 659s 914ms/step - loss: 2.3520 - val_loss: 2.6650\n",
      "Epoch 11/30\n",
      "721/721 [==============================] - ETA: 0s - loss: 2.2690\n",
      "Epoch 00011: val_loss improved from 2.66500 to 2.65203, saving model to Acoustic Guitar.h5\n",
      "721/721 [==============================] - 615s 853ms/step - loss: 2.2690 - val_loss: 2.6520\n",
      "Epoch 12/30\n",
      "721/721 [==============================] - ETA: 0s - loss: 2.1952\n",
      "Epoch 00012: val_loss improved from 2.65203 to 2.62191, saving model to Acoustic Guitar.h5\n",
      "721/721 [==============================] - 563s 781ms/step - loss: 2.1952 - val_loss: 2.6219\n",
      "Epoch 13/30\n",
      "721/721 [==============================] - ETA: 0s - loss: 2.1198\n",
      "Epoch 00013: val_loss improved from 2.62191 to 2.59618, saving model to Acoustic Guitar.h5\n",
      "721/721 [==============================] - 459s 637ms/step - loss: 2.1198 - val_loss: 2.5962\n",
      "Epoch 14/30\n",
      "721/721 [==============================] - ETA: 0s - loss: 2.0594\n",
      "Epoch 00014: val_loss improved from 2.59618 to 2.58816, saving model to Acoustic Guitar.h5\n",
      "721/721 [==============================] - 463s 642ms/step - loss: 2.0594 - val_loss: 2.5882\n",
      "Epoch 15/30\n",
      "721/721 [==============================] - ETA: 0s - loss: 1.9986\n",
      "Epoch 00015: val_loss did not improve from 2.58816\n",
      "721/721 [==============================] - 455s 631ms/step - loss: 1.9986 - val_loss: 2.5950\n",
      "Epoch 16/30\n",
      "721/721 [==============================] - ETA: 0s - loss: 1.9382\n",
      "Epoch 00016: val_loss improved from 2.58816 to 2.56477, saving model to Acoustic Guitar.h5\n",
      "721/721 [==============================] - 418s 580ms/step - loss: 1.9382 - val_loss: 2.5648\n",
      "Epoch 17/30\n",
      "721/721 [==============================] - ETA: 0s - loss: 1.8830\n",
      "Epoch 00017: val_loss did not improve from 2.56477\n",
      "721/721 [==============================] - 459s 636ms/step - loss: 1.8830 - val_loss: 2.5730\n",
      "Epoch 18/30\n",
      "721/721 [==============================] - ETA: 0s - loss: 1.8308\n",
      "Epoch 00018: val_loss did not improve from 2.56477\n",
      "721/721 [==============================] - 493s 684ms/step - loss: 1.8308 - val_loss: 2.5709\n",
      "Epoch 19/30\n",
      "721/721 [==============================] - ETA: 0s - loss: 1.7810\n",
      "Epoch 00019: val_loss did not improve from 2.56477\n",
      "721/721 [==============================] - 463s 642ms/step - loss: 1.7810 - val_loss: 2.5723\n",
      "Epoch 20/30\n",
      "721/721 [==============================] - ETA: 0s - loss: 1.7359\n",
      "Epoch 00020: val_loss did not improve from 2.56477\n",
      "721/721 [==============================] - 463s 642ms/step - loss: 1.7359 - val_loss: 2.5767\n",
      "Epoch 21/30\n",
      "721/721 [==============================] - ETA: 0s - loss: 1.6914\n",
      "Epoch 00021: val_loss did not improve from 2.56477\n",
      "721/721 [==============================] - 472s 655ms/step - loss: 1.6914 - val_loss: 2.5821\n",
      "Epoch 22/30\n",
      "721/721 [==============================] - ETA: 0s - loss: 1.6459\n",
      "Epoch 00022: val_loss did not improve from 2.56477\n",
      "721/721 [==============================] - 517s 718ms/step - loss: 1.6459 - val_loss: 2.5967\n",
      "Epoch 23/30\n",
      "721/721 [==============================] - ETA: 0s - loss: 1.6080\n",
      "Epoch 00023: val_loss did not improve from 2.56477\n",
      "721/721 [==============================] - 384s 532ms/step - loss: 1.6080 - val_loss: 2.6139\n",
      "Epoch 24/30\n",
      "721/721 [==============================] - ETA: 0s - loss: 1.5689\n",
      "Epoch 00024: val_loss did not improve from 2.56477\n",
      "721/721 [==============================] - 393s 545ms/step - loss: 1.5689 - val_loss: 2.6086\n",
      "Epoch 25/30\n",
      "721/721 [==============================] - ETA: 0s - loss: 1.5315\n",
      "Epoch 00025: val_loss did not improve from 2.56477\n",
      "721/721 [==============================] - 391s 542ms/step - loss: 1.5315 - val_loss: 2.6340\n",
      "Epoch 26/30\n",
      "721/721 [==============================] - ETA: 0s - loss: 1.4935\n",
      "Epoch 00026: val_loss did not improve from 2.56477\n",
      "721/721 [==============================] - 376s 522ms/step - loss: 1.4935 - val_loss: 2.6764\n",
      "Epoch 27/30\n",
      "721/721 [==============================] - ETA: 0s - loss: 1.4564\n",
      "Epoch 00027: val_loss did not improve from 2.56477\n",
      "721/721 [==============================] - 404s 561ms/step - loss: 1.4564 - val_loss: 2.6785\n",
      "Epoch 28/30\n",
      "721/721 [==============================] - ETA: 0s - loss: 1.4247\n",
      "Epoch 00028: val_loss did not improve from 2.56477\n",
      "721/721 [==============================] - 401s 556ms/step - loss: 1.4247 - val_loss: 2.6941\n",
      "Epoch 29/30\n",
      "721/721 [==============================] - ETA: 0s - loss: 1.3912\n",
      "Epoch 00029: val_loss did not improve from 2.56477\n",
      "721/721 [==============================] - 418s 580ms/step - loss: 1.3912 - val_loss: 2.7379\n",
      "Epoch 30/30\n",
      "721/721 [==============================] - ETA: 0s - loss: 1.3584\n",
      "Epoch 00030: val_loss did not improve from 2.56477\n",
      "721/721 [==============================] - 386s 535ms/step - loss: 1.3584 - val_loss: 2.7411\n"
     ]
    }
   ],
   "source": [
    "from keras.layers import *\n",
    "from keras.models import *\n",
    "from keras.callbacks import *\n",
    "import keras.backend as K\n",
    "\n",
    "K.clear_session()\n",
    "if(os.path.isfile(\"Acoustic Guitar.h5\") == False):\n",
    "    model=lstm()\n",
    "    mc=ModelCheckpoint('Acoustic Guitar.h5', monitor='val_loss', mode='min', save_best_only=True,verbose=1)\n",
    "    history = model.fit(np.array(x_tr),np.array(y_tr),batch_size=128,\n",
    "                        epochs=30, validation_data=(np.array(x_val),np.array(y_val)),\n",
    "                        verbose=1, callbacks=[mc])"
   ]
  },
  {
   "cell_type": "code",
   "execution_count": 13,
   "metadata": {},
   "outputs": [],
   "source": [
    "#loading best model\n",
    "from keras.models import load_model\n",
    "model = load_model('Acoustic Guitar.h5')"
   ]
  },
  {
   "cell_type": "code",
   "execution_count": 15,
   "metadata": {},
   "outputs": [],
   "source": [
    "def prediction():\n",
    "    import random\n",
    "    ind = np.random.randint(0,len(x_val)-1)\n",
    "\n",
    "    random_music = x_val[ind]\n",
    "\n",
    "    predictions=[]\n",
    "    for i in range(30):\n",
    "\n",
    "        random_music = random_music.reshape(1,no_of_timesteps,1)\n",
    "\n",
    "        prob  = model.predict(random_music)[0]\n",
    "        y_pred= np.argmax(prob,axis=0)\n",
    "        predictions.append(y_pred)\n",
    "\n",
    "        random_music = np.insert(random_music[0],len(random_music[0]),y_pred)\n",
    "        random_music = random_music[1:]\n",
    "\n",
    "    print(predictions)\n",
    "\n",
    "    x_int_to_note = dict((number, note_) for number, note_ in enumerate(unique_x)) \n",
    "    predicted_notes = [x_int_to_note[i] for i in predictions]\n",
    "    return predicted_notes"
   ]
  },
  {
   "cell_type": "code",
   "execution_count": 16,
   "metadata": {},
   "outputs": [],
   "source": [
    "def convert_to_midi(prediction_output):\n",
    "   \n",
    "    offset = 0\n",
    "    output_notes = []\n",
    "\n",
    "    # create note and chord objects based on the values generated by the model\n",
    "    for pattern in prediction_output:\n",
    "        \n",
    "        # pattern is a chord\n",
    "        if ('.' in pattern) or pattern.isdigit():\n",
    "            notes_in_chord = pattern.split('.')\n",
    "            notes = []\n",
    "            for current_note in notes_in_chord:\n",
    "                \n",
    "                cn=int(current_note)\n",
    "                new_note = note.Note(cn)\n",
    "                new_note.storedInstrument = instrument.AcousticGuitar()\n",
    "                notes.append(new_note)\n",
    "                \n",
    "            new_chord = chord.Chord(notes)\n",
    "            new_chord.offset = offset\n",
    "            output_notes.append(new_chord)\n",
    "            \n",
    "        # pattern is a note\n",
    "        else:\n",
    "            \n",
    "            new_note = note.Note(pattern)\n",
    "            new_note.offset = offset\n",
    "            new_note.storedInstrument = instrument.AcousticGuitar()\n",
    "            output_notes.append(new_note)\n",
    "\n",
    "        # increase offset each iteration so that notes do not stack\n",
    "        offset += 0.5\n",
    "    output_notes.append(instrument.AcousticGuitar())\n",
    "    midi_stream = stream.Stream(output_notes)\n",
    "    midi_stream.write('midi', fp='Acoustic Guitar.mid')"
   ]
  },
  {
   "cell_type": "code",
   "execution_count": 22,
   "metadata": {},
   "outputs": [
    {
     "name": "stdout",
     "output_type": "stream",
     "text": [
      "[135, 173, 173, 173, 115, 173, 80, 35, 159, 159, 80, 31, 197, 172, 197, 34, 172, 172, 72, 82, 31, 172, 172, 159, 95, 35, 77, 99, 77, 77]\n"
     ]
    }
   ],
   "source": [
    "predicted_notes=prediction()\n",
    "convert_to_midi(predicted_notes)"
   ]
  },
  {
   "cell_type": "code",
   "execution_count": 24,
   "metadata": {},
   "outputs": [
    {
     "data": {
      "text/plain": [
       "0"
      ]
     },
     "execution_count": 24,
     "metadata": {},
     "output_type": "execute_result"
    }
   ],
   "source": [
    "import subprocess\n",
    "subprocess.call(['sh', 'AcousticGuitar.sh'])"
   ]
  },
  {
   "cell_type": "code",
   "execution_count": null,
   "metadata": {},
   "outputs": [],
   "source": []
  }
 ],
 "metadata": {
  "kernelspec": {
   "display_name": "Python 3",
   "language": "python",
   "name": "python3"
  },
  "language_info": {
   "codemirror_mode": {
    "name": "ipython",
    "version": 3
   },
   "file_extension": ".py",
   "mimetype": "text/x-python",
   "name": "python",
   "nbconvert_exporter": "python",
   "pygments_lexer": "ipython3",
   "version": "3.8.3"
  }
 },
 "nbformat": 4,
 "nbformat_minor": 4
}
